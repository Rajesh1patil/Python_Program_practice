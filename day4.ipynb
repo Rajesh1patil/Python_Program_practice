{
  "nbformat": 4,
  "nbformat_minor": 0,
  "metadata": {
    "colab": {
      "provenance": [],
      "authorship_tag": "ABX9TyOo+BjLR9CoHapI6FBbawYw",
      "include_colab_link": true
    },
    "kernelspec": {
      "name": "python3",
      "display_name": "Python 3"
    },
    "language_info": {
      "name": "python"
    }
  },
  "cells": [
    {
      "cell_type": "markdown",
      "metadata": {
        "id": "view-in-github",
        "colab_type": "text"
      },
      "source": [
        "<a href=\"https://colab.research.google.com/github/Rajesh1patil/Python_Program_practice/blob/main/day4.ipynb\" target=\"_parent\"><img src=\"https://colab.research.google.com/assets/colab-badge.svg\" alt=\"Open In Colab\"/></a>"
      ]
    },
    {
      "cell_type": "markdown",
      "source": [
        "## 1. Python program to check whether the string is Symmetrical or Palindrome"
      ],
      "metadata": {
        "id": "fJIuqEXCz5km"
      }
    },
    {
      "cell_type": "code",
      "source": [
        "def palindrome(str1):\n",
        "  if str1[:]==str1[::-1]:\n",
        "    return 'palindrome'\n",
        "  else:\n",
        "    return 'not a palindrome'"
      ],
      "metadata": {
        "id": "8qgEeIwiz494"
      },
      "execution_count": 3,
      "outputs": []
    },
    {
      "cell_type": "code",
      "source": [
        "palindrome('racecar')"
      ],
      "metadata": {
        "colab": {
          "base_uri": "https://localhost:8080/",
          "height": 36
        },
        "id": "8Pe9HX0o0ewq",
        "outputId": "89a1a6b9-205e-426d-cd52-7c90609677c8"
      },
      "execution_count": 4,
      "outputs": [
        {
          "output_type": "execute_result",
          "data": {
            "text/plain": [
              "'palindrome'"
            ],
            "application/vnd.google.colaboratory.intrinsic+json": {
              "type": "string"
            }
          },
          "metadata": {},
          "execution_count": 4
        }
      ]
    },
    {
      "cell_type": "code",
      "source": [
        "palindrome('welcome')\n"
      ],
      "metadata": {
        "colab": {
          "base_uri": "https://localhost:8080/",
          "height": 36
        },
        "id": "kyqi2h5L0sfH",
        "outputId": "e7ff9f89-f1b0-455b-ec6e-ee2302767e7d"
      },
      "execution_count": 5,
      "outputs": [
        {
          "output_type": "execute_result",
          "data": {
            "text/plain": [
              "'not a palindrome'"
            ],
            "application/vnd.google.colaboratory.intrinsic+json": {
              "type": "string"
            }
          },
          "metadata": {},
          "execution_count": 5
        }
      ]
    },
    {
      "cell_type": "markdown",
      "source": [
        "## 2. remove i’th character from string in Python"
      ],
      "metadata": {
        "id": "V-szzRnb0yzJ"
      }
    },
    {
      "cell_type": "code",
      "source": [
        "#remove a from Daata only after D not all\n",
        "my_string='i am a Daata Scientist'\n",
        "new_string=\"\"\n",
        "for i in range(len(my_string)):\n",
        "  if i!=8:\n",
        "    new_string=new_string+my_string[i]\n",
        "  \n",
        "\n"
      ],
      "metadata": {
        "id": "wKHwuUja0xjN"
      },
      "execution_count": 13,
      "outputs": []
    },
    {
      "cell_type": "code",
      "source": [
        "print(new_string)"
      ],
      "metadata": {
        "colab": {
          "base_uri": "https://localhost:8080/"
        },
        "id": "SYq6RqOQ2AhB",
        "outputId": "a0759691-b90b-44af-94dd-188ca8c14c43"
      },
      "execution_count": 14,
      "outputs": [
        {
          "output_type": "stream",
          "name": "stdout",
          "text": [
            "i am a Data Scientist\n"
          ]
        }
      ]
    },
    {
      "cell_type": "markdown",
      "source": [
        "## 3. **Avoid Spaces in string length**"
      ],
      "metadata": {
        "id": "7rq-dH6_3fLA"
      }
    },
    {
      "cell_type": "code",
      "source": [
        "\n",
        "my_string='i am a Daata Scientist'\n",
        "new_str=my_string.replace(' ','')\n",
        "len(new_str)\n",
        "\n"
      ],
      "metadata": {
        "colab": {
          "base_uri": "https://localhost:8080/"
        },
        "id": "IYK3Lu4Q2C-_",
        "outputId": "00d3d776-714d-4f23-e0be-ec703a0c38fc"
      },
      "execution_count": 24,
      "outputs": [
        {
          "output_type": "execute_result",
          "data": {
            "text/plain": [
              "18"
            ]
          },
          "metadata": {},
          "execution_count": 24
        }
      ]
    },
    {
      "cell_type": "markdown",
      "source": [
        "##4.  Python program to print even length words in a string"
      ],
      "metadata": {
        "id": "cgnKR_EV5sFe"
      }
    },
    {
      "cell_type": "code",
      "source": [
        "sample='If this command fails , then use a python distribution that already has NumPy installed like , Anaconda , Spyder'"
      ],
      "metadata": {
        "id": "lzixmxbcEBqw"
      },
      "execution_count": 64,
      "outputs": []
    },
    {
      "cell_type": "code",
      "source": [
        "def even_words(s):\n",
        "  s=s.split(' ')\n",
        "  for word in s:\n",
        "    if len(word)%2==0:\n",
        "      print(word) \n",
        "\n"
      ],
      "metadata": {
        "id": "l7D7M-E_42u_"
      },
      "execution_count": 65,
      "outputs": []
    },
    {
      "cell_type": "code",
      "source": [
        "print(even_words(sample))"
      ],
      "metadata": {
        "colab": {
          "base_uri": "https://localhost:8080/"
        },
        "id": "s-hozzYLEc9A",
        "outputId": "bbf8640d-108f-4302-fe3b-ff878c697914"
      },
      "execution_count": 66,
      "outputs": [
        {
          "output_type": "stream",
          "name": "stdout",
          "text": [
            "If\n",
            "this\n",
            "then\n",
            "python\n",
            "distribution\n",
            "that\n",
            "like\n",
            "Anaconda\n",
            "Spyder\n",
            "None\n"
          ]
        }
      ]
    },
    {
      "cell_type": "markdown",
      "source": [
        "## 5. Uppercase Half String"
      ],
      "metadata": {
        "id": "EtqN7Ai8T5kv"
      }
    },
    {
      "cell_type": "code",
      "source": [
        "sample='autodidact'\n",
        "new_str=sample[:5]\n",
        "new2=sample[5:]\n",
        "new1=new_str.upper()\n",
        "\n",
        "final=new1+new2\n",
        "print(final)\n",
        "\n",
        "\n",
        "  "
      ],
      "metadata": {
        "colab": {
          "base_uri": "https://localhost:8080/"
        },
        "id": "bPkYtkH1Hp53",
        "outputId": "92c1f47c-591f-43b0-b37d-27a401d5fd61"
      },
      "execution_count": 73,
      "outputs": [
        {
          "output_type": "stream",
          "name": "stdout",
          "text": [
            "AUTODidact\n"
          ]
        }
      ]
    },
    {
      "cell_type": "code",
      "source": [],
      "metadata": {
        "id": "yLLHifgtUNgQ"
      },
      "execution_count": null,
      "outputs": []
    }
  ]
}