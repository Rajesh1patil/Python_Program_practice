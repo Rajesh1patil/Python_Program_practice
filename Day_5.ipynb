{
  "nbformat": 4,
  "nbformat_minor": 0,
  "metadata": {
    "colab": {
      "provenance": [],
      "authorship_tag": "ABX9TyPl0mOd6XbDqeDmmcUDtMxO",
      "include_colab_link": true
    },
    "kernelspec": {
      "name": "python3",
      "display_name": "Python 3"
    },
    "language_info": {
      "name": "python"
    }
  },
  "cells": [
    {
      "cell_type": "markdown",
      "metadata": {
        "id": "view-in-github",
        "colab_type": "text"
      },
      "source": [
        "<a href=\"https://colab.research.google.com/github/Rajesh1patil/Python_Program_practice/blob/main/Day_5.ipynb\" target=\"_parent\"><img src=\"https://colab.research.google.com/assets/colab-badge.svg\" alt=\"Open In Colab\"/></a>"
      ]
    },
    {
      "cell_type": "markdown",
      "source": [
        "## 1.Python program to capitalize the first and last character of each word in a string"
      ],
      "metadata": {
        "id": "BxJr1XOfT85O"
      }
    },
    {
      "cell_type": "markdown",
      "source": [
        "Approch\"\n",
        "create empty list\n",
        "\n",
        "use split method \n",
        "\n",
        "use indexing\n",
        "\n",
        "append in empty list\n",
        "\n",
        "use join method "
      ],
      "metadata": {
        "id": "Ra2O-8wx2Kun"
      }
    },
    {
      "cell_type": "code",
      "execution_count": 1,
      "metadata": {
        "id": "QGzm8-i3Ntys"
      },
      "outputs": [],
      "source": [
        "sample='Python program to capitalize the first and last character of each word in string'"
      ]
    },
    {
      "cell_type": "code",
      "source": [
        "sample=sample.split(' ')\n",
        "res=[]\n",
        "for i in sample:\n",
        "  x=i[0].upper()+i[1:-1]+i[-1].upper()\n",
        "  a=res.append(x)\n",
        "res=' '.join(res)\n",
        "print(res)"
      ],
      "metadata": {
        "colab": {
          "base_uri": "https://localhost:8080/"
        },
        "id": "D-nvVx_YbmyJ",
        "outputId": "35de4405-d2b4-4535-f45f-628453625f34"
      },
      "execution_count": 2,
      "outputs": [
        {
          "output_type": "stream",
          "name": "stdout",
          "text": [
            "PythoN PrograM TO CapitalizE ThE FirsT AnD LasT CharacteR OF EacH WorD IN StrinG\n"
          ]
        }
      ]
    },
    {
      "cell_type": "markdown",
      "source": [
        "## 2.Python program to check if a string has at least one letter and one number"
      ],
      "metadata": {
        "id": "8ozV0mHYfNaW"
      }
    },
    {
      "cell_type": "markdown",
      "source": [
        "use isalnum method"
      ],
      "metadata": {
        "id": "Nz_6x2Lu2ivL"
      }
    },
    {
      "cell_type": "code",
      "source": [
        "sample='welcome2ourcountry34'\n",
        "sample.isalnum()"
      ],
      "metadata": {
        "colab": {
          "base_uri": "https://localhost:8080/"
        },
        "id": "aY_jeautcFvt",
        "outputId": "a763115a-130b-43f0-a9a6-175f76a6a9fc"
      },
      "execution_count": 3,
      "outputs": [
        {
          "output_type": "execute_result",
          "data": {
            "text/plain": [
              "True"
            ]
          },
          "metadata": {},
          "execution_count": 3
        }
      ]
    },
    {
      "cell_type": "markdown",
      "source": [
        "## 3.Program to accept the strings which contains all vowels"
      ],
      "metadata": {
        "id": "DeWzuKzxgsbj"
      }
    },
    {
      "cell_type": "code",
      "source": [
        "sample='autodidacte'"
      ],
      "metadata": {
        "id": "V9Zcyt_-uXJH"
      },
      "execution_count": 4,
      "outputs": []
    },
    {
      "cell_type": "code",
      "source": [
        "\n",
        "# Python program for the above approach\n",
        "def check(string):\n",
        "    if len(set(string.lower()).intersection(\"aeiou\")) >= 5:\n",
        "        return ('accepted')\n",
        "    else:\n",
        "        return (\"not accepted\")\n",
        " "
      ],
      "metadata": {
        "id": "eFYcJHuguGus"
      },
      "execution_count": 5,
      "outputs": []
    },
    {
      "cell_type": "code",
      "source": [
        "check(sample)"
      ],
      "metadata": {
        "colab": {
          "base_uri": "https://localhost:8080/",
          "height": 36
        },
        "id": "M1aRxorUuUgv",
        "outputId": "45110842-e668-4454-9091-fc0d36641e82"
      },
      "execution_count": 6,
      "outputs": [
        {
          "output_type": "execute_result",
          "data": {
            "text/plain": [
              "'accepted'"
            ],
            "application/vnd.google.colaboratory.intrinsic+json": {
              "type": "string"
            }
          },
          "metadata": {},
          "execution_count": 6
        }
      ]
    },
    {
      "cell_type": "markdown",
      "source": [
        "## 4 **matching characters in a pair of string**"
      ],
      "metadata": {
        "id": "fy3bq295zPug"
      }
    },
    {
      "cell_type": "code",
      "source": [
        "str1= 'abcdef'\n",
        "str2= 'defghia'"
      ],
      "metadata": {
        "id": "YI3_xkrquccv"
      },
      "execution_count": 7,
      "outputs": []
    },
    {
      "cell_type": "code",
      "source": [
        "for i in str1:\n",
        "  for j in str2:\n",
        "    if i==j:\n",
        "      res=' '.join(i)\n",
        "      print((res))\n",
        "      "
      ],
      "metadata": {
        "colab": {
          "base_uri": "https://localhost:8080/"
        },
        "id": "PFS7wqidzks6",
        "outputId": "9f586c65-f5a7-45cf-8539-d4de95594897"
      },
      "execution_count": 8,
      "outputs": [
        {
          "output_type": "stream",
          "name": "stdout",
          "text": [
            "a\n",
            "d\n",
            "e\n",
            "f\n"
          ]
        }
      ]
    },
    {
      "cell_type": "code",
      "source": [
        "str1= 'abcdef'\n",
        "str2= 'defghia'\n",
        "\n",
        "set1=set(str1)\n",
        "set2=set(str2)\n",
        "\n",
        "matched=set1&set2\n",
        "\n",
        "str(len(matched))"
      ],
      "metadata": {
        "colab": {
          "base_uri": "https://localhost:8080/",
          "height": 36
        },
        "id": "1R_nFvQhzdC9",
        "outputId": "db2ffcb2-ce12-4ed9-dfea-cf7fd392714d"
      },
      "execution_count": 9,
      "outputs": [
        {
          "output_type": "execute_result",
          "data": {
            "text/plain": [
              "'4'"
            ],
            "application/vnd.google.colaboratory.intrinsic+json": {
              "type": "string"
            }
          },
          "metadata": {},
          "execution_count": 9
        }
      ]
    },
    {
      "cell_type": "code",
      "source": [
        "matched"
      ],
      "metadata": {
        "colab": {
          "base_uri": "https://localhost:8080/"
        },
        "id": "wubwH6PC0zUj",
        "outputId": "8f9ef4f2-3a10-467d-a3c8-6bda5e47311d"
      },
      "execution_count": 10,
      "outputs": [
        {
          "output_type": "execute_result",
          "data": {
            "text/plain": [
              "{'a', 'd', 'e', 'f'}"
            ]
          },
          "metadata": {},
          "execution_count": 10
        }
      ]
    },
    {
      "cell_type": "markdown",
      "source": [
        "### 5. Python program to count number of vowels using sets in given string"
      ],
      "metadata": {
        "id": "9N9j--AO2vGG"
      }
    },
    {
      "cell_type": "markdown",
      "source": [
        "create fuction\n",
        "\n",
        "create str2 with vowel \n",
        "\n",
        "make strings in lower case\n",
        "\n",
        "convert it into set\n",
        "\n",
        "intersect of set\n",
        "\n",
        "use length function"
      ],
      "metadata": {
        "id": "4CAXjQ9B5DIO"
      }
    },
    {
      "cell_type": "code",
      "source": [
        "def vowel_num(str1):\n",
        "  str2='aeiou'\n",
        "  l1=str1.lower()\n",
        "  l2=str2.lower()\n",
        "  set1=set(l1)\n",
        "  set2=set(l2)\n",
        "  matched=set1&set2\n",
        "  return len(matched)\n",
        "\n"
      ],
      "metadata": {
        "id": "tmQafKSD1kgB"
      },
      "execution_count": 11,
      "outputs": []
    },
    {
      "cell_type": "code",
      "source": [
        "vowel_num('Abcdef')"
      ],
      "metadata": {
        "colab": {
          "base_uri": "https://localhost:8080/"
        },
        "id": "tDgV_45n394l",
        "outputId": "372df7f2-c777-406e-a99c-c14f1858e9de"
      },
      "execution_count": 12,
      "outputs": [
        {
          "output_type": "execute_result",
          "data": {
            "text/plain": [
              "2"
            ]
          },
          "metadata": {},
          "execution_count": 12
        }
      ]
    },
    {
      "cell_type": "code",
      "source": [],
      "metadata": {
        "id": "qmQaw1lN425B"
      },
      "execution_count": 12,
      "outputs": []
    }
  ]
}