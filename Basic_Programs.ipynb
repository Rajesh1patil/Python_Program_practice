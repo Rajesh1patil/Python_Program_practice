{
  "nbformat": 4,
  "nbformat_minor": 0,
  "metadata": {
    "colab": {
      "provenance": [],
      "authorship_tag": "ABX9TyNq/QMicpw3hN2v97hzwPCv",
      "include_colab_link": true
    },
    "kernelspec": {
      "name": "python3",
      "display_name": "Python 3"
    },
    "language_info": {
      "name": "python"
    },
    "gpuClass": "standard"
  },
  "cells": [
    {
      "cell_type": "markdown",
      "metadata": {
        "id": "view-in-github",
        "colab_type": "text"
      },
      "source": [
        "<a href=\"https://colab.research.google.com/github/Rajesh1patil/Python_Program_practice/blob/main/Basic_Programs.ipynb\" target=\"_parent\"><img src=\"https://colab.research.google.com/assets/colab-badge.svg\" alt=\"Open In Colab\"/></a>"
      ]
    },
    {
      "cell_type": "markdown",
      "source": [
        "### Write a Python program to print the following string in a specific format (see the output). Go to the editor\n",
        "\n",
        "**Sample String** : \"Twinkle, twinkle, little star, How I wonder what you are! Up above the world so high, Like a diamond in the sky. Twinkle, twinkle, little star, How I wonder what you are\" \n",
        "\n",
        "**Output** :\n",
        "\n",
        "Twinkle, twinkle, little star,\n",
        "\n",
        "How I wonder what you are! \n",
        "\n",
        "Up above the world so high,   \t\t\n",
        "\t\t\n",
        "Like a diamond in the sky. \n",
        "\n",
        "Twinkle, twinkle, little star,\n",
        "\n",
        "How I wonder what you are\n",
        "\n",
        "\n"
      ],
      "metadata": {
        "id": "FnNTuyYzDeFG"
      }
    },
    {
      "cell_type": "code",
      "source": [
        " sample_string=\"Twinkle, twinkle, little star, How I wonder what you are! Up above the world so high, Like a diamond in the sky. Twinkle, twinkle, little star, How I wonder what you are\""
      ],
      "metadata": {
        "id": "LTnLfO_sERw1"
      },
      "execution_count": null,
      "outputs": []
    },
    {
      "cell_type": "code",
      "source": [
        "output_string= \"Twinkle, twinkle, little star,\\n How I wonder what you are!\\n Up above the world so high,\\n Like a diamond in the sky.\\n Twinkle, twinkle, little star,\\n How I wonder what you are\""
      ],
      "metadata": {
        "id": "A9xnL5WPEW49"
      },
      "execution_count": null,
      "outputs": []
    },
    {
      "cell_type": "code",
      "source": [
        "print(output_string)"
      ],
      "metadata": {
        "colab": {
          "base_uri": "https://localhost:8080/"
        },
        "id": "nazUBneSEuHe",
        "outputId": "770918ca-8188-4510-8331-a926031ea0cc"
      },
      "execution_count": null,
      "outputs": [
        {
          "output_type": "stream",
          "name": "stdout",
          "text": [
            "Twinkle, twinkle, little star,\n",
            " How I wonder what you are!\n",
            " Up above the world so high,\n",
            " Like a diamond in the sky.\n",
            " Twinkle, twinkle, little star,\n",
            " How I wonder what you are\n"
          ]
        }
      ]
    },
    {
      "cell_type": "markdown",
      "source": [
        "Here we are wooo got the output "
      ],
      "metadata": {
        "id": "ME1T5EJFFcCh"
      }
    },
    {
      "cell_type": "markdown",
      "source": [
        "## Write a Python program to get the Python version you are using."
      ],
      "metadata": {
        "id": "4rVEhL1NF400"
      }
    },
    {
      "cell_type": "code",
      "source": [
        "import sys\n",
        "print('python version',sys.version)\n",
        "print('Version_info',sys.version_info)"
      ],
      "metadata": {
        "colab": {
          "base_uri": "https://localhost:8080/"
        },
        "id": "4V0JVRRvFiej",
        "outputId": "fc52fa6a-3472-4420-f327-b3d9cb09d9f2"
      },
      "execution_count": null,
      "outputs": [
        {
          "output_type": "stream",
          "name": "stdout",
          "text": [
            "python version 3.8.16 (default, Dec  7 2022, 01:12:13) \n",
            "[GCC 7.5.0]\n",
            "Version_info sys.version_info(major=3, minor=8, micro=16, releaselevel='final', serial=0)\n"
          ]
        }
      ]
    },
    {
      "cell_type": "markdown",
      "source": [
        "we are using version 3.8.15"
      ],
      "metadata": {
        "id": "4yP2DOTWG9vy"
      }
    },
    {
      "cell_type": "markdown",
      "source": [
        "### Write a Python program to display the current date and time."
      ],
      "metadata": {
        "id": "Ix0y6nohIUsq"
      }
    },
    {
      "cell_type": "code",
      "source": [
        "import datetime\n",
        "date_time_now=datetime.datetime.now()\n",
        "print('current date time')\n",
        "print(date_time_now.strftime('%Y-%m-%d %H:%M:%S'))"
      ],
      "metadata": {
        "colab": {
          "base_uri": "https://localhost:8080/"
        },
        "id": "GIPHOmFsHBLI",
        "outputId": "e6b29102-ae73-400c-d01c-c502cc2a4f09"
      },
      "execution_count": null,
      "outputs": [
        {
          "output_type": "stream",
          "name": "stdout",
          "text": [
            "current date time\n",
            "2023-01-02 05:54:43\n"
          ]
        }
      ]
    },
    {
      "cell_type": "markdown",
      "source": [
        "### Write a Python program which accepts the radius of a circle from the user and compute the area."
      ],
      "metadata": {
        "id": "-f1N56xNI5-6"
      }
    },
    {
      "cell_type": "code",
      "source": [
        "import math\n",
        "print('area of the circle')\n",
        "radius=int(input('enter the radius'))\n",
        "area=math.pi*radius**2\n",
        "print('the radius of circle',area)"
      ],
      "metadata": {
        "colab": {
          "base_uri": "https://localhost:8080/"
        },
        "id": "FoWdaHpgIDF0",
        "outputId": "c4ee44de-45f0-458c-d46d-5b82812026bd"
      },
      "execution_count": null,
      "outputs": [
        {
          "output_type": "stream",
          "name": "stdout",
          "text": [
            "area of the circle\n",
            "enter the radius4\n",
            "the radius of circle 50.26548245743669\n"
          ]
        }
      ]
    },
    {
      "cell_type": "markdown",
      "source": [
        "### Write a Python program which accepts the user's first and last name and print them in reverse order with a space between them."
      ],
      "metadata": {
        "id": "8TaROn6cLJZ1"
      }
    },
    {
      "cell_type": "code",
      "source": [
        "first_name=input('enter first name ')\n",
        "last_name=input('enter last name ' )\n",
        "full_name=(first_name +' '+ last_name)\n",
        "print(full_name[::-1])"
      ],
      "metadata": {
        "id": "XOiKG9GxK50M",
        "colab": {
          "base_uri": "https://localhost:8080/"
        },
        "outputId": "a0dfb4f0-81de-4722-8c19-3c5d59535f0e"
      },
      "execution_count": null,
      "outputs": [
        {
          "output_type": "stream",
          "name": "stdout",
          "text": [
            "enter first name raj\n",
            "enter last name pstmv\n",
            "vmtsp jar\n"
          ]
        }
      ]
    },
    {
      "cell_type": "markdown",
      "source": [
        "# Python Program for factorial of a number"
      ],
      "metadata": {
        "id": "nv-TK-sDQX3r"
      }
    },
    {
      "cell_type": "code",
      "source": [
        "#by using while loop\n",
        "def factorial(n):\n",
        "  '''this finction will write \n",
        "  factorial of number\n",
        "  '''\n",
        "  fact=1  # set the value 1 cause any number mul by 1 not change\n",
        "  while (n>0): #check n > 0 so ready to go inside loop\n",
        "    fact*=n  #  n=5   fact=5*1  5\n",
        "    n=n-1  # the again go in loop and n-1=4  so next fact out put is 5*4... and so on\n",
        "  return (f'the factorail of number is' ,fact) "
      ],
      "metadata": {
        "id": "4WqI0xLfL3Jc"
      },
      "execution_count": null,
      "outputs": []
    },
    {
      "cell_type": "code",
      "source": [
        "factorial(5)"
      ],
      "metadata": {
        "id": "XdxMguOaQ1zc",
        "outputId": "a0e02aa8-33d7-4a00-cca3-00e86c0c49f7",
        "colab": {
          "base_uri": "https://localhost:8080/"
        }
      },
      "execution_count": null,
      "outputs": [
        {
          "output_type": "execute_result",
          "data": {
            "text/plain": [
              "('the factorail of number is', 120)"
            ]
          },
          "metadata": {},
          "execution_count": 9
        }
      ]
    },
    {
      "cell_type": "code",
      "source": [
        "#BY RECURSION METHOD\n",
        "def fact(n):\n",
        "  if n==1:\n",
        "    return 1\n",
        "  else:\n",
        "    return (n*fact(n-1))"
      ],
      "metadata": {
        "id": "yz7RuMbLQ5X_"
      },
      "execution_count": null,
      "outputs": []
    },
    {
      "cell_type": "code",
      "source": [
        "fact(5)"
      ],
      "metadata": {
        "id": "Eiw7pvcuZA_1",
        "outputId": "a48bcebf-8384-463e-c4fc-c889a56e8ac3",
        "colab": {
          "base_uri": "https://localhost:8080/"
        }
      },
      "execution_count": null,
      "outputs": [
        {
          "output_type": "execute_result",
          "data": {
            "text/plain": [
              "120"
            ]
          },
          "metadata": {},
          "execution_count": 11
        }
      ]
    },
    {
      "cell_type": "code",
      "source": [
        "#by using for loop\n",
        "num=int(input('enter your number'))\n",
        "fact=1\n",
        "for i in range(1,num+1):\n",
        "  fact*=i\n",
        "print(fact)"
      ],
      "metadata": {
        "id": "PVSga6zIZDS5",
        "outputId": "af14a00a-f7db-4dbf-b52a-3813eb1a3545",
        "colab": {
          "base_uri": "https://localhost:8080/"
        }
      },
      "execution_count": null,
      "outputs": [
        {
          "output_type": "stream",
          "name": "stdout",
          "text": [
            "enter your number4\n",
            "24\n"
          ]
        }
      ]
    },
    {
      "cell_type": "markdown",
      "source": [
        "# Python program to print all Prime numbers in an Interval"
      ],
      "metadata": {
        "id": "AQWgAFAVhWvk"
      }
    },
    {
      "cell_type": "code",
      "source": [
        "x=int(input('start number'))\n",
        "y=int(input('end number'))\n",
        "count=0\n",
        "if x>1:\n",
        "  for i in range (x,y+1):\n",
        "    if i>1:\n",
        "      for j in range(2,i):\n",
        "        if i%j==0:\n",
        "          break\n",
        "      else:\n",
        "        count+=1\n",
        "        print(i)\n",
        "print(count)\n"
      ],
      "metadata": {
        "id": "oOukd8p8cFZB",
        "colab": {
          "base_uri": "https://localhost:8080/"
        },
        "outputId": "79199e1e-b06f-454f-fd04-dea8a2ca2f2c"
      },
      "execution_count": null,
      "outputs": [
        {
          "output_type": "stream",
          "name": "stdout",
          "text": [
            "start number3\n",
            "end number9\n",
            "3\n",
            "5\n",
            "7\n",
            "3\n"
          ]
        }
      ]
    },
    {
      "cell_type": "code",
      "source": [
        "#range of prime number \n",
        "def prime(x, y):\n",
        "    count=0\n",
        "    prime_list = []\n",
        "    for i in range(x, y):\n",
        "        if i == 0 or i == 1:\n",
        "            continue\n",
        "        else:\n",
        "            for j in range(2,i):\n",
        "                if i % j == 0:\n",
        "                    break\n",
        "            else:\n",
        "                prime_list.append(i)\n",
        "                count+=1\n",
        "    print(count)\n",
        "    return prime_list"
      ],
      "metadata": {
        "id": "YdhKtOEa4-CH"
      },
      "execution_count": null,
      "outputs": []
    },
    {
      "cell_type": "code",
      "source": [
        "print(prime(2,7))"
      ],
      "metadata": {
        "id": "goLQdXCf4_V9",
        "colab": {
          "base_uri": "https://localhost:8080/"
        },
        "outputId": "e6938bce-8ff0-434e-e6a0-db9975f6d266"
      },
      "execution_count": null,
      "outputs": [
        {
          "output_type": "stream",
          "name": "stdout",
          "text": [
            "3\n",
            "[2, 3, 5]\n"
          ]
        }
      ]
    },
    {
      "cell_type": "code",
      "source": [
        "prime(2,7)"
      ],
      "metadata": {
        "id": "sLI57SC5Xyva",
        "colab": {
          "base_uri": "https://localhost:8080/"
        },
        "outputId": "be59d022-d755-4483-e1c1-feb6a88f020a"
      },
      "execution_count": null,
      "outputs": [
        {
          "output_type": "stream",
          "name": "stdout",
          "text": [
            "3\n"
          ]
        },
        {
          "output_type": "execute_result",
          "data": {
            "text/plain": [
              "[2, 3, 5]"
            ]
          },
          "metadata": {},
          "execution_count": 16
        }
      ]
    },
    {
      "cell_type": "markdown",
      "source": [
        "# Python program to check whether a number is Prime or not"
      ],
      "metadata": {
        "id": "k37x0F_bZZbx"
      }
    },
    {
      "cell_type": "code",
      "source": [
        "num=int(input('enter your number'))\n",
        "if num >1:\n",
        "  for n in range(2,num):\n",
        "      if num%n==0:\n",
        "        print('number is non prime')\n",
        "        break\n",
        "  else:\n",
        "        print('number is a prime number')\n",
        "else:\n",
        "  print('invaid entry')\n"
      ],
      "metadata": {
        "id": "7C8F1jvYX1QI",
        "colab": {
          "base_uri": "https://localhost:8080/"
        },
        "outputId": "25b3a386-d8ff-4acc-ea3b-6ce5ffcdfcf8"
      },
      "execution_count": null,
      "outputs": [
        {
          "output_type": "stream",
          "name": "stdout",
          "text": [
            "enter your number4\n",
            "number is non prime\n"
          ]
        }
      ]
    },
    {
      "cell_type": "markdown",
      "source": [
        "# Python Program for n-th Fibonacci number"
      ],
      "metadata": {
        "id": "aO0V7pPKgls5"
      }
    },
    {
      "cell_type": "code",
      "source": [
        "def fibonacci(n):\n",
        "  if n<=0:\n",
        "      return 'invalid entry'\n",
        "  elif n ==1:\n",
        "      return 0\n",
        "  elif n==2:\n",
        "      return 1\n",
        "  else:\n",
        "      return fibonacci(n-1)+fibonacci(n-2)"
      ],
      "metadata": {
        "id": "oa7TP0r9eig8"
      },
      "execution_count": null,
      "outputs": []
    },
    {
      "cell_type": "code",
      "source": [
        "fibonacci(10)"
      ],
      "metadata": {
        "id": "CeIY7OVLkVGQ",
        "colab": {
          "base_uri": "https://localhost:8080/"
        },
        "outputId": "34bd54d2-5eac-4fb2-be65-ea6228032dff"
      },
      "execution_count": null,
      "outputs": [
        {
          "output_type": "execute_result",
          "data": {
            "text/plain": [
              "34"
            ]
          },
          "metadata": {},
          "execution_count": 19
        }
      ]
    },
    {
      "cell_type": "code",
      "source": [
        "def Fibonacci(n):\n",
        "    if n<= 0:\n",
        "        print(\"Incorrect input\")\n",
        "    # First Fibonacci number is 0\n",
        "    elif n == 1:\n",
        "        return 0\n",
        "    # Second Fibonacci number is 1\n",
        "    elif n == 2:\n",
        "        return 1\n",
        "    else:\n",
        "        return Fibonacci(n-1)+Fibonacci(n-2)"
      ],
      "metadata": {
        "id": "0IjFuf_ehdde"
      },
      "execution_count": null,
      "outputs": []
    },
    {
      "cell_type": "code",
      "source": [
        "Fibonacci(10)"
      ],
      "metadata": {
        "id": "NupldBTFirJG",
        "colab": {
          "base_uri": "https://localhost:8080/"
        },
        "outputId": "5e89efa7-7238-4079-caee-a873503c6771"
      },
      "execution_count": null,
      "outputs": [
        {
          "output_type": "execute_result",
          "data": {
            "text/plain": [
              "34"
            ]
          },
          "metadata": {},
          "execution_count": 21
        }
      ]
    },
    {
      "cell_type": "markdown",
      "source": [
        "# Python Program for Sum of squares of first n natural numbers"
      ],
      "metadata": {
        "id": "MZwcz_TfwSZb"
      }
    },
    {
      "cell_type": "code",
      "source": [
        "def square_sum(n):\n",
        "  sum=0\n",
        "  for i in range(1,n+1):\n",
        "    sum=sum+i**2\n",
        "  return sum"
      ],
      "metadata": {
        "id": "TFksOCUrwAWz"
      },
      "execution_count": null,
      "outputs": []
    },
    {
      "cell_type": "code",
      "source": [
        "square_sum(5)"
      ],
      "metadata": {
        "id": "4eOcrn5rwzjq",
        "colab": {
          "base_uri": "https://localhost:8080/"
        },
        "outputId": "6bae7ed2-36fd-45ac-d27e-9502eaeb37b7"
      },
      "execution_count": null,
      "outputs": [
        {
          "output_type": "execute_result",
          "data": {
            "text/plain": [
              "55"
            ]
          },
          "metadata": {},
          "execution_count": 23
        }
      ]
    },
    {
      "cell_type": "markdown",
      "source": [
        "# Python program to interchange first and last elements in a list"
      ],
      "metadata": {
        "id": "lqpRAvtwxlXz"
      }
    },
    {
      "cell_type": "markdown",
      "source": [
        "Input : [12, 35, 9, 56, 24]\n",
        "Output : [24, 35, 9, 56, 12]"
      ],
      "metadata": {
        "id": "ztXvaBIsxqi_"
      }
    },
    {
      "cell_type": "code",
      "source": [
        "my_list=[12, 35, 9, 56, 24]\n",
        "first=my_list[0]\n",
        "last=my_list[-1]\n",
        "my_list[0]=last\n",
        "my_list[-1]=first\n",
        "print(my_list)"
      ],
      "metadata": {
        "id": "y956oeIsw1_W",
        "colab": {
          "base_uri": "https://localhost:8080/"
        },
        "outputId": "fab690fd-7750-4919-9fca-19984a9e0013"
      },
      "execution_count": null,
      "outputs": [
        {
          "output_type": "stream",
          "name": "stdout",
          "text": [
            "[24, 35, 9, 56, 12]\n"
          ]
        }
      ]
    },
    {
      "cell_type": "code",
      "source": [
        "def swapping(my_list):\n",
        "  '''swap first and last number'''\n",
        "  my_list[0],my_list[-1]=my_list[-1],my_list[0]\n",
        "  return my_list"
      ],
      "metadata": {
        "id": "3hNcV6nxygKP"
      },
      "execution_count": null,
      "outputs": []
    },
    {
      "cell_type": "code",
      "source": [
        "my_list=[12, 35, 9, 56, 24]\n",
        "print(swapping(my_list))"
      ],
      "metadata": {
        "id": "3eJfLdXWzHCl",
        "colab": {
          "base_uri": "https://localhost:8080/"
        },
        "outputId": "59486cb4-dde7-4cfb-94ca-5d32d432e762"
      },
      "execution_count": null,
      "outputs": [
        {
          "output_type": "stream",
          "name": "stdout",
          "text": [
            "[24, 35, 9, 56, 12]\n"
          ]
        }
      ]
    },
    {
      "cell_type": "markdown",
      "source": [
        "# Check if element exists in list in Python\n",
        "\n",
        "list = test_list = [1, 6, 3, 5, 3, 4]"
      ],
      "metadata": {
        "id": "xjN-D4nuZNqH"
      }
    },
    {
      "cell_type": "code",
      "source": [
        "test_list = [1, 6, 3, 5, 3, 4]\n",
        "6 in test_list\n"
      ],
      "metadata": {
        "id": "q0nZq_4szNON",
        "colab": {
          "base_uri": "https://localhost:8080/"
        },
        "outputId": "0503b708-7cd1-461e-bc15-558ef78c5cb6"
      },
      "execution_count": null,
      "outputs": [
        {
          "output_type": "execute_result",
          "data": {
            "text/plain": [
              "True"
            ]
          },
          "metadata": {},
          "execution_count": 27
        }
      ]
    },
    {
      "cell_type": "code",
      "source": [
        "input=int(input('enter you number'))\n",
        "if input in test_list:\n",
        "  print('number is present in list')\n",
        "else:\n",
        "  print('number is not present')"
      ],
      "metadata": {
        "id": "th3ZaP7saFZ2",
        "colab": {
          "base_uri": "https://localhost:8080/"
        },
        "outputId": "12afd443-75f1-4b9b-f651-86556019387f"
      },
      "execution_count": null,
      "outputs": [
        {
          "output_type": "stream",
          "name": "stdout",
          "text": [
            "enter you number4\n",
            "number is present in list\n"
          ]
        }
      ]
    },
    {
      "cell_type": "markdown",
      "source": [
        "# Different ways to clear a list in Python"
      ],
      "metadata": {
        "id": "Nf8ns5MgbpWX"
      }
    },
    {
      "cell_type": "code",
      "source": [
        "test_list = [1, 6, 3, 5, 3, 4]\n",
        "\n",
        "test_list.clear()"
      ],
      "metadata": {
        "id": "Vg7dyBDBbE9Z"
      },
      "execution_count": null,
      "outputs": []
    },
    {
      "cell_type": "code",
      "source": [
        "test_list"
      ],
      "metadata": {
        "id": "mQIqSNgwcEJP",
        "colab": {
          "base_uri": "https://localhost:8080/"
        },
        "outputId": "f1e1bd50-6850-47dd-e66e-955037e3d5e2"
      },
      "execution_count": null,
      "outputs": [
        {
          "output_type": "execute_result",
          "data": {
            "text/plain": [
              "[]"
            ]
          },
          "metadata": {},
          "execution_count": 30
        }
      ]
    },
    {
      "cell_type": "markdown",
      "source": [
        "# Reversing a List in Python"
      ],
      "metadata": {
        "id": "ZifT7_TvcNaP"
      }
    },
    {
      "cell_type": "code",
      "source": [
        "list_ = [4, 5, 6, 7, 8, 9]\n",
        "\n",
        "list_[::-1]"
      ],
      "metadata": {
        "id": "W5HF1ox7cF5x",
        "colab": {
          "base_uri": "https://localhost:8080/"
        },
        "outputId": "1b5b742a-ae26-46e4-dfad-ed220fd33b3d"
      },
      "execution_count": null,
      "outputs": [
        {
          "output_type": "execute_result",
          "data": {
            "text/plain": [
              "[9, 8, 7, 6, 5, 4]"
            ]
          },
          "metadata": {},
          "execution_count": 31
        }
      ]
    },
    {
      "cell_type": "code",
      "source": [
        "list_.reverse()\n",
        "list_"
      ],
      "metadata": {
        "id": "PgV9LLrJcXFX",
        "colab": {
          "base_uri": "https://localhost:8080/"
        },
        "outputId": "7f0b00ff-6aae-4981-fa6c-1aef015f7bab"
      },
      "execution_count": null,
      "outputs": [
        {
          "output_type": "execute_result",
          "data": {
            "text/plain": [
              "[9, 8, 7, 6, 5, 4]"
            ]
          },
          "metadata": {},
          "execution_count": 32
        }
      ]
    },
    {
      "cell_type": "markdown",
      "source": [
        "# Python program to find sum of elements in list"
      ],
      "metadata": {
        "id": "O9amia2oc_b2"
      }
    },
    {
      "cell_type": "code",
      "source": [
        "nput=[12, 15, 3, 10]\n",
        "sum=0\n",
        "for i in nput:\n",
        "  sum+=i\n",
        "print(sum)\n"
      ],
      "metadata": {
        "id": "txF1iahvcfHv",
        "colab": {
          "base_uri": "https://localhost:8080/"
        },
        "outputId": "a039413f-600e-426d-88ad-7fd4b75059b6"
      },
      "execution_count": null,
      "outputs": [
        {
          "output_type": "stream",
          "name": "stdout",
          "text": [
            "40\n"
          ]
        }
      ]
    },
    {
      "cell_type": "markdown",
      "source": [
        "# Python program to find smallest number in a list"
      ],
      "metadata": {
        "id": "vmijnBYN-dYm"
      }
    },
    {
      "cell_type": "code",
      "source": [
        "list1 = [10, 20, 4]"
      ],
      "metadata": {
        "id": "V2QhenXr-ek-"
      },
      "execution_count": null,
      "outputs": []
    },
    {
      "cell_type": "code",
      "source": [
        "min(list1)"
      ],
      "metadata": {
        "colab": {
          "base_uri": "https://localhost:8080/"
        },
        "id": "Vu3h0Wy--hQJ",
        "outputId": "6796127e-36ec-42a7-a878-54f0766119a2"
      },
      "execution_count": null,
      "outputs": [
        {
          "output_type": "execute_result",
          "data": {
            "text/plain": [
              "4"
            ]
          },
          "metadata": {},
          "execution_count": 35
        }
      ]
    },
    {
      "cell_type": "code",
      "source": [
        "list1.sort()\n",
        "print('the lowest number',list1[0])"
      ],
      "metadata": {
        "colab": {
          "base_uri": "https://localhost:8080/"
        },
        "id": "d1WmC1nd_OQe",
        "outputId": "b8e64938-6896-4e57-e490-d95e6e4f292a"
      },
      "execution_count": null,
      "outputs": [
        {
          "output_type": "stream",
          "name": "stdout",
          "text": [
            "the lowest number 4\n"
          ]
        }
      ]
    },
    {
      "cell_type": "markdown",
      "source": [
        "# **Python program to find largest number in a list**"
      ],
      "metadata": {
        "id": "fl78wQXKDfhq"
      }
    },
    {
      "cell_type": "code",
      "source": [
        "list2=[10,20,4]\n",
        "list2.sort()\n",
        "print('the largest number is ', list2[-1])"
      ],
      "metadata": {
        "colab": {
          "base_uri": "https://localhost:8080/"
        },
        "id": "xpROdVwGDeb_",
        "outputId": "c35a2105-6a23-4211-8572-d098374c839a"
      },
      "execution_count": null,
      "outputs": [
        {
          "output_type": "stream",
          "name": "stdout",
          "text": [
            "the largest number is  20\n"
          ]
        }
      ]
    },
    {
      "cell_type": "code",
      "source": [
        "max(list2)"
      ],
      "metadata": {
        "colab": {
          "base_uri": "https://localhost:8080/"
        },
        "id": "W14fWdspDzI5",
        "outputId": "913f4c09-726f-45ea-c9d2-230bb65f95fa"
      },
      "execution_count": null,
      "outputs": [
        {
          "output_type": "execute_result",
          "data": {
            "text/plain": [
              "20"
            ]
          },
          "metadata": {},
          "execution_count": 39
        }
      ]
    },
    {
      "cell_type": "markdown",
      "source": [
        "# **Find 2nd Largest number**"
      ],
      "metadata": {
        "id": "9R9N1HflEAGG"
      }
    },
    {
      "cell_type": "code",
      "source": [
        "lst=[70, 11, 20, 4, 100]\n",
        "lst.sort()\n",
        "print('second largest number is ', lst[-2])"
      ],
      "metadata": {
        "colab": {
          "base_uri": "https://localhost:8080/"
        },
        "id": "LSeMhkDTEAjm",
        "outputId": "5c069ed5-d83e-443a-9327-532b22e21a28"
      },
      "execution_count": null,
      "outputs": [
        {
          "output_type": "stream",
          "name": "stdout",
          "text": [
            "second largest number is  70\n"
          ]
        }
      ]
    },
    {
      "cell_type": "code",
      "source": [
        "lst=[10, 20, 20, 4, 45, 45, 45, 99, 99]\n",
        "lst=set(lst)\n",
        "lst=list(lst)\n",
        "lst.sort()\n",
        "print('second largest number is ', lst[-2])\n"
      ],
      "metadata": {
        "colab": {
          "base_uri": "https://localhost:8080/"
        },
        "id": "MGgQ0W12EWFM",
        "outputId": "173aa143-f102-416f-a9d7-aff898b0bc9c"
      },
      "execution_count": null,
      "outputs": [
        {
          "output_type": "stream",
          "name": "stdout",
          "text": [
            "second largest number is  45\n"
          ]
        }
      ]
    },
    {
      "cell_type": "markdown",
      "source": [
        "# **Python program to find N largest elements from a list**"
      ],
      "metadata": {
        "id": "kXBQ1z2SHUmF"
      }
    },
    {
      "cell_type": "code",
      "source": [
        "lst=[70,34,45, 11, 20, 4, 100]\n",
        "lst.sort()\n",
        "N=4\n",
        "print('4 largest numbers ',lst[-N:])"
      ],
      "metadata": {
        "colab": {
          "base_uri": "https://localhost:8080/"
        },
        "id": "p2WlyELDEn9f",
        "outputId": "13a5fbaa-709f-48c0-e1ce-ff2cd699e96a"
      },
      "execution_count": null,
      "outputs": [
        {
          "output_type": "stream",
          "name": "stdout",
          "text": [
            "4 largest numbers  [34, 45, 70, 100]\n"
          ]
        }
      ]
    },
    {
      "cell_type": "markdown",
      "source": [
        "# Python program to print all even numbers in a range"
      ],
      "metadata": {
        "id": "Ig5Y70FpJmh3"
      }
    },
    {
      "cell_type": "code",
      "source": [
        "start = 4 \n",
        "end = 15\n",
        "lst1=[]\n",
        "\n",
        "for i in range (start,end+1):\n",
        "  if i%2==0:\n",
        "    lst1.append(i)\n",
        "print(lst1)\n"
      ],
      "metadata": {
        "colab": {
          "base_uri": "https://localhost:8080/"
        },
        "id": "mDeJMwzLHsyl",
        "outputId": "15e3a785-db86-4f13-beba-ecb6346dfb30"
      },
      "execution_count": null,
      "outputs": [
        {
          "output_type": "stream",
          "name": "stdout",
          "text": [
            "[4, 6, 8, 10, 12, 14]\n"
          ]
        }
      ]
    },
    {
      "cell_type": "markdown",
      "source": [
        "# Python program to print positive numbers in a list"
      ],
      "metadata": {
        "id": "Hgiow_k-JzfC"
      }
    },
    {
      "cell_type": "code",
      "source": [
        "list1 = [12, -7, 5, 64, -14]\n",
        "\n",
        "lst=[]\n",
        "\n",
        "for i in list1:\n",
        "  if i>0:\n",
        "    lst.append(i)\n",
        "print(lst)"
      ],
      "metadata": {
        "colab": {
          "base_uri": "https://localhost:8080/"
        },
        "id": "1RQbvZe-I7Vs",
        "outputId": "a2a5f36e-4c51-4c70-ae01-20474152ee5e"
      },
      "execution_count": null,
      "outputs": [
        {
          "output_type": "stream",
          "name": "stdout",
          "text": [
            "[12, 5, 64]\n"
          ]
        }
      ]
    },
    {
      "cell_type": "markdown",
      "source": [
        "# Remove multiple elements from a list in Python"
      ],
      "metadata": {
        "id": "nSGIcvYiKQY3"
      }
    },
    {
      "cell_type": "code",
      "source": [
        "# remove 12 and 3\n",
        "lst=[12, 15, 3, 10,34,56,78,41]\n",
        "unwanted={12,3}\n",
        "\n",
        "lsit=[]\n",
        "\n",
        "for ele in lst:\n",
        "  if ele not in unwanted:\n",
        "    lsit.append(ele)\n",
        "print(lsit)\n",
        "\n"
      ],
      "metadata": {
        "colab": {
          "base_uri": "https://localhost:8080/"
        },
        "id": "1i4dFBDlKEcx",
        "outputId": "7bdd0cf4-2ef4-40b6-826f-c7aa03beba0f"
      },
      "execution_count": null,
      "outputs": [
        {
          "output_type": "stream",
          "name": "stdout",
          "text": [
            "[15, 10, 34, 56, 78, 41]\n"
          ]
        }
      ]
    },
    {
      "cell_type": "markdown",
      "source": [
        "# check a number prime or not"
      ],
      "metadata": {
        "id": "jGYAfEw_mitn"
      }
    },
    {
      "cell_type": "code",
      "source": [
        "num=int(input('enter your number'))\n",
        "count=0\n",
        "if num>1:\n",
        "  for i in range(1,num+1):\n",
        "    if num%i==0:\n",
        "      count=count+1\n",
        "  if count==2:\n",
        "        print('number is prime ')\n",
        "    \n",
        "  else:\n",
        "        print('number is non prime')\n"
      ],
      "metadata": {
        "id": "rheU9CesKYNo",
        "colab": {
          "base_uri": "https://localhost:8080/"
        },
        "outputId": "5169c9c5-6457-4d59-c845-a63d17b5e1c5"
      },
      "execution_count": null,
      "outputs": [
        {
          "output_type": "stream",
          "name": "stdout",
          "text": [
            "enter your number3\n",
            "number is prime \n"
          ]
        }
      ]
    },
    {
      "cell_type": "code",
      "source": [
        "#is number positive or negative\n",
        "num=int(input('enter the num :'))\n",
        "if num==0:\n",
        "  print('number is 0')\n",
        "elif num>0:\n",
        "  print('the number is positive')\n",
        "else:\n",
        "  print('number is negative')"
      ],
      "metadata": {
        "id": "jDTnQ15v0UVY",
        "colab": {
          "base_uri": "https://localhost:8080/"
        },
        "outputId": "f2091216-9c8b-44cc-b910-c92431a721c6"
      },
      "execution_count": null,
      "outputs": [
        {
          "output_type": "stream",
          "name": "stdout",
          "text": [
            "enter the num :-9\n",
            "number is negative\n"
          ]
        }
      ]
    },
    {
      "cell_type": "code",
      "source": [
        "#sum of n naturals numbers\n",
        "sum=0\n",
        "count=1\n",
        "while count<=10:\n",
        "  sum=sum+count\n",
        "  count+=1\n",
        "print(sum)"
      ],
      "metadata": {
        "colab": {
          "base_uri": "https://localhost:8080/"
        },
        "id": "6fr1MPCPg3ug",
        "outputId": "96d70dbb-064b-4840-e9fe-f894da649beb"
      },
      "execution_count": null,
      "outputs": [
        {
          "output_type": "stream",
          "name": "stdout",
          "text": [
            "55\n"
          ]
        }
      ]
    },
    {
      "cell_type": "code",
      "source": [
        "#sum of squares of n naturals numbers\n",
        "sum=0\n",
        "count=0\n",
        "while count<=3:\n",
        "  sum+=count**2\n",
        "  count+=1\n",
        "print(sum)"
      ],
      "metadata": {
        "colab": {
          "base_uri": "https://localhost:8080/"
        },
        "id": "DM7wPBqMjSkG",
        "outputId": "1658bc73-c4ba-4131-8383-ec04935bca9a"
      },
      "execution_count": null,
      "outputs": [
        {
          "output_type": "stream",
          "name": "stdout",
          "text": [
            "14\n"
          ]
        }
      ]
    },
    {
      "cell_type": "code",
      "source": [
        "#sum of digits of numbers\n",
        "num=248\n",
        "\n",
        "sum=0\n",
        "while num>0:\n",
        "  sum=sum+num%10\n",
        "  num=num//10\n",
        "print(sum)\n",
        "  \n",
        "\n",
        "\n"
      ],
      "metadata": {
        "colab": {
          "base_uri": "https://localhost:8080/"
        },
        "id": "x9yfIE2omym8",
        "outputId": "3d4394be-f9df-48ef-e6ee-93bda6d5ed51"
      },
      "execution_count": null,
      "outputs": [
        {
          "output_type": "stream",
          "name": "stdout",
          "text": [
            "14\n"
          ]
        }
      ]
    },
    {
      "cell_type": "code",
      "source": [
        "#mulitiplication of digit of numbers\n",
        "num=234\n",
        "mul=1\n",
        "while num>0:\n",
        "  mul*=num%10\n",
        "  num=num//10\n",
        "print(mul)"
      ],
      "metadata": {
        "colab": {
          "base_uri": "https://localhost:8080/"
        },
        "id": "s7orDuFt2XqR",
        "outputId": "884b1e32-684e-4cd7-8f04-eb8e2a2821fd"
      },
      "execution_count": null,
      "outputs": [
        {
          "output_type": "stream",
          "name": "stdout",
          "text": [
            "24\n"
          ]
        }
      ]
    },
    {
      "cell_type": "code",
      "source": [
        "#print(even and odd in one lits but starting with even numbers and after even numbers reverse odd numbers )\n",
        "lst=range(1,11)\n",
        "lst1=[]\n",
        "lst2=[]\n",
        "\n",
        "for i in range(1,11):\n",
        "  if i%2==0:\n",
        "    lst1.append(i)\n",
        "  else:\n",
        "    lst2.append(i)\n",
        "lst2=lst2[::-1]\n",
        "\n",
        "print(lst1+lst2)"
      ],
      "metadata": {
        "id": "3jE2A5lcsDr_",
        "colab": {
          "base_uri": "https://localhost:8080/"
        },
        "outputId": "2522b1b4-0815-4b5e-ceba-5afd53713b08"
      },
      "execution_count": null,
      "outputs": [
        {
          "output_type": "stream",
          "name": "stdout",
          "text": [
            "[2, 4, 6, 8, 10, 9, 7, 5, 3, 1]\n"
          ]
        }
      ]
    },
    {
      "cell_type": "code",
      "source": [],
      "metadata": {
        "id": "NUoUYNFlzBdF"
      },
      "execution_count": null,
      "outputs": []
    }
  ]
}