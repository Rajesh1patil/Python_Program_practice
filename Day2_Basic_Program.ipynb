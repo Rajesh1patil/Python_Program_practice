{
  "nbformat": 4,
  "nbformat_minor": 0,
  "metadata": {
    "colab": {
      "provenance": [],
      "authorship_tag": "ABX9TyPoXTwuH3JQxFCx3rKah2s3",
      "include_colab_link": true
    },
    "kernelspec": {
      "name": "python3",
      "display_name": "Python 3"
    },
    "language_info": {
      "name": "python"
    }
  },
  "cells": [
    {
      "cell_type": "markdown",
      "metadata": {
        "id": "view-in-github",
        "colab_type": "text"
      },
      "source": [
        "<a href=\"https://colab.research.google.com/github/Rajesh1patil/Python_Program_practice/blob/main/Day2_Basic_Program.ipynb\" target=\"_parent\"><img src=\"https://colab.research.google.com/assets/colab-badge.svg\" alt=\"Open In Colab\"/></a>"
      ]
    },
    {
      "cell_type": "markdown",
      "source": [
        "SWAPPING OF TWO NUMBERS"
      ],
      "metadata": {
        "id": "Q6B09O2CqIG_"
      }
    },
    {
      "cell_type": "code",
      "source": [
        "a=int(input())\n",
        "b=int(input())\n",
        "c=a\n",
        "a=b\n",
        "b=c\n",
        "print('The value of a after swapping: {}'.format(a))\n",
        "print('The value of b after swapping: {}'.format(b))"
      ],
      "metadata": {
        "colab": {
          "base_uri": "https://localhost:8080/"
        },
        "id": "otdjtDxeptvM",
        "outputId": "ae6337d1-b2d9-4f06-ac52-70c0522f5068"
      },
      "execution_count": 2,
      "outputs": [
        {
          "output_type": "stream",
          "name": "stdout",
          "text": [
            "4\n",
            "6\n",
            "The value of a after swapping: 6\n",
            "The value of b after swapping: 4\n"
          ]
        }
      ]
    },
    {
      "cell_type": "markdown",
      "source": [
        "### Write a function called find_bigrams that takes a sentence or paragraph of strings and returns a list of all bigrams."
      ],
      "metadata": {
        "id": "kF8ktUkqBnGc"
      }
    },
    {
      "cell_type": "code",
      "source": [
        "def biagram(sentence):\n",
        "  words=sentence.split(' ')\n",
        "  return[(word_1,word_2) for word_1,word_2 in zip(words,words[1:])]\n"
      ],
      "metadata": {
        "id": "5kAlx7lGBmpw"
      },
      "execution_count": 3,
      "outputs": []
    },
    {
      "cell_type": "code",
      "source": [
        "biagram('Have free hours and love children?')"
      ],
      "metadata": {
        "colab": {
          "base_uri": "https://localhost:8080/"
        },
        "id": "ZxeYL80qCdeF",
        "outputId": "4281c393-2fcd-4977-943c-0087110824a8"
      },
      "execution_count": 4,
      "outputs": [
        {
          "output_type": "execute_result",
          "data": {
            "text/plain": [
              "[('Have', 'free'),\n",
              " ('free', 'hours'),\n",
              " ('hours', 'and'),\n",
              " ('and', 'love'),\n",
              " ('love', 'children?')]"
            ]
          },
          "metadata": {},
          "execution_count": 4
        }
      ]
    },
    {
      "cell_type": "markdown",
      "source": [
        "### Write a Python program which accepts a sequence of comma-separated numbers from user and generate a list and a tuple with those numbers."
      ],
      "metadata": {
        "id": "DwudGCXODbXl"
      }
    },
    {
      "cell_type": "code",
      "source": [
        "numbers=(input('enter your numbers'))\n",
        "num=numbers.split(',')\n",
        "list_num=list(num)\n",
        "tup_num=tuple(num)\n",
        "print(list_num)\n",
        "print(tup_num)"
      ],
      "metadata": {
        "colab": {
          "base_uri": "https://localhost:8080/"
        },
        "id": "Lv9uz62rC4mN",
        "outputId": "7ac84564-0497-47b1-f297-2f31153ec900"
      },
      "execution_count": 8,
      "outputs": [
        {
          "output_type": "stream",
          "name": "stdout",
          "text": [
            "enter your numbers3,4,5,6,7,8\n",
            "['3', '4', '5', '6', '7', '8']\n",
            "('3', '4', '5', '6', '7', '8')\n"
          ]
        }
      ]
    },
    {
      "cell_type": "markdown",
      "source": [
        "### Write a Python program to accept a filename from the user and print the extension of that."
      ],
      "metadata": {
        "id": "75sw-mqJE2HQ"
      }
    },
    {
      "cell_type": "code",
      "source": [
        "extension=input('write your filename')\n",
        "ext=extension.split('.')\n",
        "out=ext[-1]\n",
        "print(out)"
      ],
      "metadata": {
        "colab": {
          "base_uri": "https://localhost:8080/"
        },
        "id": "liho8mCFD0ct",
        "outputId": "6014920b-5ad4-4949-e6a5-c5c55963619c"
      },
      "execution_count": 15,
      "outputs": [
        {
          "output_type": "stream",
          "name": "stdout",
          "text": [
            "write your filenameabc.python\n",
            "python\n"
          ]
        }
      ]
    },
    {
      "cell_type": "markdown",
      "source": [
        "### Write a Python program to display the first and last colors from the following list"
      ],
      "metadata": {
        "id": "armyWIbVHF34"
      }
    },
    {
      "cell_type": "code",
      "source": [
        "color_list = [\"Red\",\"Green\",\"White\" ,\"Black\"]\n",
        "print(color_list[0],color_list[-1])"
      ],
      "metadata": {
        "colab": {
          "base_uri": "https://localhost:8080/"
        },
        "id": "HoqWTEktGGYK",
        "outputId": "07ac0760-c8c8-4750-ba54-c973570b32db"
      },
      "execution_count": 18,
      "outputs": [
        {
          "output_type": "stream",
          "name": "stdout",
          "text": [
            "Red Black\n"
          ]
        }
      ]
    }
  ]
}