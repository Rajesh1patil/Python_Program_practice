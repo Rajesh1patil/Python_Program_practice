{
  "nbformat": 4,
  "nbformat_minor": 0,
  "metadata": {
    "colab": {
      "provenance": [],
      "authorship_tag": "ABX9TyOyvH+bceRyG3+3NQNZxHwn",
      "include_colab_link": true
    },
    "kernelspec": {
      "name": "python3",
      "display_name": "Python 3"
    },
    "language_info": {
      "name": "python"
    }
  },
  "cells": [
    {
      "cell_type": "markdown",
      "metadata": {
        "id": "view-in-github",
        "colab_type": "text"
      },
      "source": [
        "<a href=\"https://colab.research.google.com/github/Rajesh1patil/Python_Program_practice/blob/main/Day3_python_program.ipynb\" target=\"_parent\"><img src=\"https://colab.research.google.com/assets/colab-badge.svg\" alt=\"Open In Colab\"/></a>"
      ]
    },
    {
      "cell_type": "markdown",
      "source": [
        "### Write a Python program to display the examination schedule."
      ],
      "metadata": {
        "id": "FZ5z9zjuglJF"
      }
    },
    {
      "cell_type": "code",
      "source": [
        "examdate=(11,12,2022)\n",
        "print(\"the exam date %i / %i / %i\"%examdate)"
      ],
      "metadata": {
        "colab": {
          "base_uri": "https://localhost:8080/"
        },
        "id": "9ynGmuYzhzmz",
        "outputId": "ffbf61b3-c263-4873-e058-f26c16a4bc8d"
      },
      "execution_count": 23,
      "outputs": [
        {
          "output_type": "stream",
          "name": "stdout",
          "text": [
            "the exam date 11 / 12 / 2022\n"
          ]
        }
      ]
    },
    {
      "cell_type": "markdown",
      "source": [
        "### Write a Python program that accepts an integer (n) and computes the value of n+nn+nnn."
      ],
      "metadata": {
        "id": "uNzeKUW5jXgL"
      }
    },
    {
      "cell_type": "code",
      "source": [
        "def mul(a):\n",
        "  n1 = int( \"%s\" % a)\n",
        "  n2 = int( \"%s%s\" % (a,a))\n",
        "  n3 = int( \"%s%s%s\" % (a,a,a))\n",
        "  return(n1+n2+n3)"
      ],
      "metadata": {
        "id": "1mxUX3o6lCXx"
      },
      "execution_count": 53,
      "outputs": []
    },
    {
      "cell_type": "code",
      "source": [
        "mul(5)"
      ],
      "metadata": {
        "colab": {
          "base_uri": "https://localhost:8080/"
        },
        "id": "8TK8luEum6Gb",
        "outputId": "77f76d65-963f-4adc-d1da-022927592dfa"
      },
      "execution_count": 54,
      "outputs": [
        {
          "output_type": "execute_result",
          "data": {
            "text/plain": [
              "615"
            ]
          },
          "metadata": {},
          "execution_count": 54
        }
      ]
    },
    {
      "cell_type": "markdown",
      "source": [
        "### Write a Python program to print the documents (syntax, description etc.) of Python built-in function(s).\n",
        "\n",
        " Sample function: abs()"
      ],
      "metadata": {
        "id": "wXLbkni8ojQD"
      }
    },
    {
      "cell_type": "code",
      "source": [
        "\n",
        "print(abs.__doc__)"
      ],
      "metadata": {
        "colab": {
          "base_uri": "https://localhost:8080/"
        },
        "id": "qpKToY5XoJxz",
        "outputId": "99ec780a-aa93-47ef-f752-ec304d2a0e8b"
      },
      "execution_count": 67,
      "outputs": [
        {
          "output_type": "stream",
          "name": "stdout",
          "text": [
            "Return the absolute value of the argument.\n"
          ]
        }
      ]
    },
    {
      "cell_type": "markdown",
      "source": [
        "### Write a Python program to print the calendar of a given month and year.\n",
        " Note : Use 'calendar' module."
      ],
      "metadata": {
        "id": "eyT6V1_KtZXu"
      }
    },
    {
      "cell_type": "code",
      "source": [
        "import calendar\n",
        "y=int(input('enter the year : '))\n",
        "m=int(input('enter the month : '))\n",
        "print(calendar.month(y,m))\n"
      ],
      "metadata": {
        "colab": {
          "base_uri": "https://localhost:8080/"
        },
        "id": "oZEQjl8HtCYG",
        "outputId": "189f07c4-ce15-41b0-ac17-fa93fdb71000"
      },
      "execution_count": 73,
      "outputs": [
        {
          "output_type": "stream",
          "name": "stdout",
          "text": [
            "enter the year : 2022\n",
            "enter the month : 12\n",
            "   December 2022\n",
            "Mo Tu We Th Fr Sa Su\n",
            "          1  2  3  4\n",
            " 5  6  7  8  9 10 11\n",
            "12 13 14 15 16 17 18\n",
            "19 20 21 22 23 24 25\n",
            "26 27 28 29 30 31\n",
            "\n"
          ]
        }
      ]
    },
    {
      "cell_type": "markdown",
      "source": [
        "### Write a Python program to print the following 'here document'\n",
        "\n",
        "a string that you \"don't\" have to escape\n",
        "This\n",
        "is a ....... multi-line\n",
        "heredoc string"
      ],
      "metadata": {
        "id": "w-SGxkBXu3uy"
      }
    },
    {
      "cell_type": "code",
      "source": [
        "#docstring\n",
        "\n",
        "print('''a string that you \"don't\" have to escape\n",
        "This\n",
        "is a ....... multi-line\n",
        "heredoc string\n",
        "''')"
      ],
      "metadata": {
        "colab": {
          "base_uri": "https://localhost:8080/"
        },
        "id": "5dtOzQfut41g",
        "outputId": "c9f7a71d-f861-4fec-89f2-06d6297438fd"
      },
      "execution_count": 75,
      "outputs": [
        {
          "output_type": "stream",
          "name": "stdout",
          "text": [
            "a string that you \"don't\" have to escape\n",
            "This\n",
            "is a ....... multi-line\n",
            "heredoc string\n",
            "\n"
          ]
        }
      ]
    }
  ]
}