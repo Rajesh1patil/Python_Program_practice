{
  "nbformat": 4,
  "nbformat_minor": 0,
  "metadata": {
    "colab": {
      "provenance": [],
      "authorship_tag": "ABX9TyOSozLskqnPTx1mU5d4s1ul",
      "include_colab_link": true
    },
    "kernelspec": {
      "name": "python3",
      "display_name": "Python 3"
    },
    "language_info": {
      "name": "python"
    }
  },
  "cells": [
    {
      "cell_type": "markdown",
      "metadata": {
        "id": "view-in-github",
        "colab_type": "text"
      },
      "source": [
        "<a href=\"https://colab.research.google.com/github/Rajesh1patil/Python_Program_practice/blob/main/day_1_Basic_Programs.ipynb\" target=\"_parent\"><img src=\"https://colab.research.google.com/assets/colab-badge.svg\" alt=\"Open In Colab\"/></a>"
      ]
    },
    {
      "cell_type": "markdown",
      "source": [
        "### Write a Python program to print the following string in a specific format (see the output). Go to the editor\n",
        "\n",
        "**Sample String** : \"Twinkle, twinkle, little star, How I wonder what you are! Up above the world so high, Like a diamond in the sky. Twinkle, twinkle, little star, How I wonder what you are\" \n",
        "\n",
        "**Output** :\n",
        "\n",
        "Twinkle, twinkle, little star,\n",
        "\n",
        "How I wonder what you are! \n",
        "\n",
        "Up above the world so high,   \t\t\n",
        "\t\t\n",
        "Like a diamond in the sky. \n",
        "\n",
        "Twinkle, twinkle, little star,\n",
        "\n",
        "How I wonder what you are\n",
        "\n",
        "\n"
      ],
      "metadata": {
        "id": "FnNTuyYzDeFG"
      }
    },
    {
      "cell_type": "code",
      "source": [
        " sample_string=\"Twinkle, twinkle, little star, How I wonder what you are! Up above the world so high, Like a diamond in the sky. Twinkle, twinkle, little star, How I wonder what you are\""
      ],
      "metadata": {
        "id": "LTnLfO_sERw1"
      },
      "execution_count": 23,
      "outputs": []
    },
    {
      "cell_type": "code",
      "source": [
        "output_string= \"Twinkle, twinkle, little star,\\n How I wonder what you are!\\n Up above the world so high,\\n Like a diamond in the sky.\\n Twinkle, twinkle, little star,\\n How I wonder what you are\""
      ],
      "metadata": {
        "id": "A9xnL5WPEW49"
      },
      "execution_count": 24,
      "outputs": []
    },
    {
      "cell_type": "code",
      "source": [
        "print(output_string)"
      ],
      "metadata": {
        "colab": {
          "base_uri": "https://localhost:8080/"
        },
        "id": "nazUBneSEuHe",
        "outputId": "c510f403-a7fa-49da-c8ba-4de2e40a0d08"
      },
      "execution_count": 25,
      "outputs": [
        {
          "output_type": "stream",
          "name": "stdout",
          "text": [
            "Twinkle, twinkle, little star,\n",
            " How I wonder what you are!\n",
            " Up above the world so high,\n",
            " Like a diamond in the sky.\n",
            " Twinkle, twinkle, little star,\n",
            " How I wonder what you are\n"
          ]
        }
      ]
    },
    {
      "cell_type": "markdown",
      "source": [
        "Here we are wooo got the output "
      ],
      "metadata": {
        "id": "ME1T5EJFFcCh"
      }
    },
    {
      "cell_type": "markdown",
      "source": [
        "## Write a Python program to get the Python version you are using."
      ],
      "metadata": {
        "id": "4rVEhL1NF400"
      }
    },
    {
      "cell_type": "code",
      "source": [
        "import sys\n",
        "print('python version',sys.version)\n",
        "print('Version_info',sys.version_info)"
      ],
      "metadata": {
        "colab": {
          "base_uri": "https://localhost:8080/"
        },
        "id": "4V0JVRRvFiej",
        "outputId": "b40b8234-a870-41ca-8552-3a990f53cb70"
      },
      "execution_count": 31,
      "outputs": [
        {
          "output_type": "stream",
          "name": "stdout",
          "text": [
            "python version 3.8.15 (default, Oct 12 2022, 19:14:39) \n",
            "[GCC 7.5.0]\n",
            "Version_info sys.version_info(major=3, minor=8, micro=15, releaselevel='final', serial=0)\n"
          ]
        }
      ]
    },
    {
      "cell_type": "markdown",
      "source": [
        "we are using version 3.8.15"
      ],
      "metadata": {
        "id": "4yP2DOTWG9vy"
      }
    },
    {
      "cell_type": "markdown",
      "source": [
        "### Write a Python program to display the current date and time."
      ],
      "metadata": {
        "id": "Ix0y6nohIUsq"
      }
    },
    {
      "cell_type": "code",
      "source": [
        "import datetime\n",
        "date_time_now=datetime.datetime.now()\n",
        "print('current date time')\n",
        "print(date_time_now.strftime('%Y-%m-%d %H:%M:%S'))"
      ],
      "metadata": {
        "colab": {
          "base_uri": "https://localhost:8080/"
        },
        "id": "GIPHOmFsHBLI",
        "outputId": "a0c9d09a-b921-41ec-da27-4eba93e54ac8"
      },
      "execution_count": 33,
      "outputs": [
        {
          "output_type": "stream",
          "name": "stdout",
          "text": [
            "current date time\n",
            "2022-12-04 07:53:41\n"
          ]
        }
      ]
    },
    {
      "cell_type": "markdown",
      "source": [
        "### Write a Python program which accepts the radius of a circle from the user and compute the area."
      ],
      "metadata": {
        "id": "-f1N56xNI5-6"
      }
    },
    {
      "cell_type": "code",
      "source": [
        "import math\n",
        "print('area of the circle')\n",
        "radius=int(input('enter the radius'))\n",
        "area=math.pi*radius**2\n",
        "print('the radius of circle',area)\n"
      ],
      "metadata": {
        "colab": {
          "base_uri": "https://localhost:8080/"
        },
        "id": "FoWdaHpgIDF0",
        "outputId": "b1b07bcc-a8ad-49f1-a147-4a6944ba5bde"
      },
      "execution_count": 42,
      "outputs": [
        {
          "output_type": "stream",
          "name": "stdout",
          "text": [
            "area of the circle\n",
            "enter the radius2\n",
            "the radius of circle 12.566370614359172\n"
          ]
        }
      ]
    },
    {
      "cell_type": "markdown",
      "source": [
        "### Write a Python program which accepts the user's first and last name and print them in reverse order with a space between them."
      ],
      "metadata": {
        "id": "8TaROn6cLJZ1"
      }
    },
    {
      "cell_type": "code",
      "source": [
        "first_name=input('enter first name ' )\n",
        "last_name=input('enter last name ' )\n",
        "full_name=(first_name +' '+ last_name)\n",
        "print(full_name[::-1])"
      ],
      "metadata": {
        "colab": {
          "base_uri": "https://localhost:8080/"
        },
        "id": "XOiKG9GxK50M",
        "outputId": "8a00e18e-e5b1-4c49-c7b6-f18364ef7d6d"
      },
      "execution_count": 45,
      "outputs": [
        {
          "output_type": "stream",
          "name": "stdout",
          "text": [
            "enter first name Santosh\n",
            "enter last name Pimpu\n",
            "upmiP hsotnaS\n"
          ]
        }
      ]
    },
    {
      "cell_type": "code",
      "source": [],
      "metadata": {
        "id": "4WqI0xLfL3Jc"
      },
      "execution_count": null,
      "outputs": []
    }
  ]
}